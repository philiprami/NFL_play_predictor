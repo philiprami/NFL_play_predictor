{
 "cells": [
  {
   "cell_type": "code",
   "execution_count": 1,
   "metadata": {
    "collapsed": true
   },
   "outputs": [],
   "source": [
    "import pandas as pd\n",
    "import numpy as np\n",
    "from pymongo import MongoClient\n",
    "from odo import odo"
   ]
  },
  {
   "cell_type": "code",
   "execution_count": 2,
   "metadata": {
    "collapsed": false
   },
   "outputs": [
    {
     "name": "stderr",
     "output_type": "stream",
     "text": [
      "/Users/Philip/anaconda/lib/python2.7/site-packages/IPython/core/interactiveshell.py:2717: DtypeWarning: Columns (15,16,17,22,27,33,40) have mixed types. Specify dtype option on import or set low_memory=False.\n",
      "  interactivity=interactivity, compiler=compiler, result=result)\n"
     ]
    }
   ],
   "source": [
    "df = pd.read_csv('../data/nfl_plays.csv')"
   ]
  },
  {
   "cell_type": "code",
   "execution_count": 3,
   "metadata": {
    "collapsed": false
   },
   "outputs": [
    {
     "data": {
      "text/plain": [
       "Index([u'GameId', u'GameDate', u'Quarter', u'Minute', u'Second',\n",
       "       u'OffenseTeam', u'DefenseTeam', u'Down', u'ToGo', u'YardLine',\n",
       "       u'Unnamed: 10', u'SeriesFirstDown', u'Unnamed: 12', u'NextScore',\n",
       "       u'Description', u'TeamWin', u'Unnamed: 16', u'Unnamed: 17',\n",
       "       u'SeasonYear', u'Yards', u'Formation', u'PlayType', u'IsRush',\n",
       "       u'IsPass', u'IsIncomplete', u'IsTouchdown', u'PassType', u'IsSack',\n",
       "       u'IsChallenge', u'IsChallengeReversed', u'Challenger', u'IsMeasurement',\n",
       "       u'IsInterception', u'IsFumble', u'IsPenalty', u'IsTwoPointConversion',\n",
       "       u'IsTwoPointConversionSuccessful', u'RushDirection', u'YardLineFixed',\n",
       "       u'YardLineDirection', u'IsPenaltyAccepted', u'PenaltyTeam', u'IsNoPlay',\n",
       "       u'PenaltyType', u'PenaltyYards', u'Unnamed: 45'],\n",
       "      dtype='object')"
      ]
     },
     "execution_count": 3,
     "metadata": {},
     "output_type": "execute_result"
    }
   ],
   "source": [
    "df.columns"
   ]
  },
  {
   "cell_type": "code",
   "execution_count": 4,
   "metadata": {
    "collapsed": false
   },
   "outputs": [],
   "source": [
    "# remove unnamed columns. Most are empty seperators\n",
    "df = df.drop([u'Unnamed: 10', u'Unnamed: 12', u'Unnamed: 16', u'Unnamed: 17', \n",
    "              u'Unnamed: 45','Challenger'], axis=1)"
   ]
  },
  {
   "cell_type": "code",
   "execution_count": 5,
   "metadata": {
    "collapsed": false
   },
   "outputs": [],
   "source": [
    "# Check why columns have null values\n",
    "# df[df[u'OffenseTeam'].isnull()].head(10)\n",
    "# df[df[u'Description'].isnull()].head(10)\n",
    "# df[df[u'SeasonYear'].isnull()].head(10)\n",
    "# df[df['Yards'].isnull()].head(10)\n",
    "# df[df['Formation'].isnull()].head(10)\n",
    "# df[df['PlayType'].isnull()].head(10)\n",
    "# df[df['IsPass'].isnull()].head(10)\n",
    "# df[df['IsIncomplete'].isnull()].head(10)\n",
    "# df[df['IsTouchdown'].isnull()].head(10)\n",
    "# df[df['PassType'].isnull()].head(10)\n",
    "# df[df['IsSack'].isnull()].head(10)\n",
    "# df[df['IsTwoPointConversion'].isnull()].head(10)\n",
    "# df[df['YardLineFixed'].isnull()].head(10)\n",
    "# df[df['IsNoPlay'].isnull()].head(10)\n",
    "# df[df['PenaltyYards'].isnull()].head(10)\n",
    "# df[df['OffenseTeam'].isnull()].head(10)\n",
    "# df[df['Formation'].isnull()].head(10)\n",
    "# df[df['RushDirection'].isnull()].head(10)\n",
    "# df[df['PenaltyTeam'].isnull()].head(10)\n",
    "# df[df['PenaltyType'].isnull()].head(10)"
   ]
  },
  {
   "cell_type": "code",
   "execution_count": 6,
   "metadata": {
    "collapsed": false
   },
   "outputs": [],
   "source": [
    "# turn gamedate into datetimes\n",
    "df['GameDate'] = df['GameDate'].apply(pd.to_datetime)"
   ]
  },
  {
   "cell_type": "code",
   "execution_count": 7,
   "metadata": {
    "collapsed": false
   },
   "outputs": [],
   "source": [
    "# replace null values of 'SeasonYear' with 2013\n",
    "mask = df['SeasonYear'].isnull()\n",
    "df.loc[mask, 'SeasonYear'] = 2013.0"
   ]
  },
  {
   "cell_type": "code",
   "execution_count": 8,
   "metadata": {
    "collapsed": false
   },
   "outputs": [],
   "source": [
    "# replace null values of 'Yards' with 0.0\n",
    "mask = df['Yards'].isnull()\n",
    "df.loc[mask, 'Yards'] = 0.0"
   ]
  },
  {
   "cell_type": "code",
   "execution_count": 9,
   "metadata": {
    "collapsed": true
   },
   "outputs": [],
   "source": [
    "# replace null values of 'PlayType' with 'RUSH', they are wildcat plays\n",
    "mask = df['PlayType'].isnull()\n",
    "df.loc[mask, 'PlayType'] = 'RUSH'"
   ]
  },
  {
   "cell_type": "code",
   "execution_count": 10,
   "metadata": {
    "collapsed": false
   },
   "outputs": [],
   "source": [
    "# replace null values of 'IsPass' with 0\n",
    "mask = df['IsPass'].isnull()\n",
    "df.loc[mask, 'IsPass'] = 0"
   ]
  },
  {
   "cell_type": "code",
   "execution_count": 11,
   "metadata": {
    "collapsed": false
   },
   "outputs": [],
   "source": [
    "# replace null values of 'IsTouchdown' with 0\n",
    "mask = df['IsTouchdown'].isnull()\n",
    "df.loc[mask, 'IsTouchdown'] = 0"
   ]
  },
  {
   "cell_type": "code",
   "execution_count": 12,
   "metadata": {
    "collapsed": false
   },
   "outputs": [],
   "source": [
    "# replace null values of 'PassType' with 0, also kicks were being missclassified as PASS\n",
    "mask = df['PlayType'] != 'PASS'\n",
    "df.loc[mask, 'PassType'] = 0\n",
    "\n",
    "mask = (df['PlayType'] == 'PASS') & df['Description'].str.contains('KICKS')\n",
    "df.loc[mask, 'PassType'] = 0\n",
    "df.loc[mask, 'PlayType'] = 'PUNT'\n",
    "\n",
    "mask = (df['PlayType'] == 'PASS') & df['Description'].str.contains('FIELD GOAL')\n",
    "df.loc[mask, 'PassType'] = 0\n",
    "df.loc[mask, 'PlayType'] = 'FIELD GOAL'\n",
    "\n",
    "mask = (df['PlayType'] == 'PASS') & df['Description'].str.contains('EXTRA POINT')\n",
    "df.loc[mask, 'PassType'] = 0\n",
    "df.loc[mask, 'PlayType'] = 'EXTRA POINT'\n",
    "\n",
    "mask = (df['PlayType'] == 'PASS') & df['Description'].str.contains('KNEELS')\n",
    "df.loc[mask, 'PassType'] = 0\n",
    "df.loc[mask, 'PlayType'] = 'QB KNEEL'\n",
    "\n",
    "mask = (df['PlayType'] == 'PASS') & df['Description'].str.contains('END GAME')\n",
    "df.loc[mask, 'PassType'] = 0\n",
    "df.loc[mask, 'PlayType'] = 'NO PLAY'"
   ]
  },
  {
   "cell_type": "code",
   "execution_count": 13,
   "metadata": {
    "collapsed": false
   },
   "outputs": [],
   "source": [
    "# replace null values of 'IsIncomplete' with 0\n",
    "mask = df['IsIncomplete'].isnull()\n",
    "df[mask] = df[mask].fillna(0)"
   ]
  },
  {
   "cell_type": "code",
   "execution_count": 14,
   "metadata": {
    "collapsed": false
   },
   "outputs": [],
   "source": [
    "# replace all of the null values in one faulty row with 0's\n",
    "mask = df['IsSack'].isnull()\n",
    "df[mask] = df[mask].fillna(0)"
   ]
  },
  {
   "cell_type": "code",
   "execution_count": 15,
   "metadata": {
    "collapsed": false
   },
   "outputs": [],
   "source": [
    "# replace null values of 'IsMeasurement' with 0\n",
    "df['IsMeasurement'] = df['IsMeasurement'].fillna(0)"
   ]
  },
  {
   "cell_type": "code",
   "execution_count": 16,
   "metadata": {
    "collapsed": false
   },
   "outputs": [],
   "source": [
    "mask = df['YardLineFixed'].isnull()\n",
    "df.loc[mask, 'YardLineFixed'] = 100 - df[mask]['YardLine'] "
   ]
  },
  {
   "cell_type": "code",
   "execution_count": 17,
   "metadata": {
    "collapsed": false
   },
   "outputs": [],
   "source": [
    "# replace null values of 'IsNoPlay' with 0\n",
    "df['IsNoPlay'] = df['IsNoPlay'].fillna(0)"
   ]
  },
  {
   "cell_type": "code",
   "execution_count": 18,
   "metadata": {
    "collapsed": true
   },
   "outputs": [],
   "source": [
    "# replace null values of 'PenaltyYards' with 0\n",
    "df['PenaltyYards'] = df['PenaltyYards'].fillna(0)"
   ]
  },
  {
   "cell_type": "code",
   "execution_count": 19,
   "metadata": {
    "collapsed": false
   },
   "outputs": [],
   "source": [
    "mask = (df['OffenseTeam'].isnull()) & df['Description'].str.contains('END QUARTER')\n",
    "df.loc[mask, 'OffenseTeam'] = 0\n",
    "df.loc[mask, 'PlayType'] = 'END QUARTER'\n",
    "\n",
    "mask = (df['OffenseTeam'].isnull()) & df['Description'].str.contains('TIMEOUT')\n",
    "df.loc[mask, 'OffenseTeam'] = 0\n",
    "df.loc[mask, 'PlayType'] = 'TIMEOUT'\n",
    "\n",
    "mask = (df['OffenseTeam'].isnull()) & df['Description'].str.contains('END GAME')\n",
    "df.loc[mask, 'OffenseTeam'] = 0\n",
    "df.loc[mask, 'PlayType'] = 'END GAME'\n",
    "\n",
    "mask = (df['OffenseTeam'].isnull()) & df['Description'].str.contains('TWO-MINUTE WARNING')\n",
    "df.loc[mask, 'OffenseTeam'] = 0\n",
    "df.loc[mask, 'PlayType'] = 'TWO-MINUTE WARNING'\n",
    "\n",
    "mask = (df['OffenseTeam'].isnull()) & df['Description'].str.contains('END OF')\n",
    "df.loc[mask, 'OffenseTeam'] = 0\n",
    "df.loc[mask, 'PlayType'] = 'END OF QUARTER/HALF'\n",
    "\n",
    "mask = (df['OffenseTeam'].isnull()) & df['Description'].str.contains('PASS')\n",
    "df.loc[mask, 'OffenseTeam'] = 0\n",
    "df.loc[mask, 'PlayType'] = 'END OF QUARTER/HALF'\n",
    "\n",
    "# drop the rest and include description\n",
    "df.dropna(subset=['OffenseTeam', 'Description'], how='any', inplace = True)"
   ]
  },
  {
   "cell_type": "code",
   "execution_count": 20,
   "metadata": {
    "collapsed": false
   },
   "outputs": [],
   "source": [
    "# replace null values of 'Formation' with 0\n",
    "df['Formation'] = df['Formation'].fillna(0)"
   ]
  },
  {
   "cell_type": "code",
   "execution_count": 21,
   "metadata": {
    "collapsed": false
   },
   "outputs": [],
   "source": [
    "# Correct mislabeled rush plays with the right RushDirection\n",
    "mask = (df['RushDirection'].isnull()) & (df['PlayType'] == 'RUSH') & (df['Description'].str.contains('CENTER'))\n",
    "df.loc[mask, 'RushDirection'] = 'CENTER'\n",
    "\n",
    "mask = (df['RushDirection'].isnull()) & (df['PlayType'] == 'RUSH') & (df['Description'].str.contains('LEFT TACKLE'))\n",
    "df.loc[mask, 'RushDirection'] = 'LEFT TACKLE'\n",
    "\n",
    "mask = (df['RushDirection'].isnull()) & (df['PlayType'] == 'RUSH') & (df['Description'].str.contains('RIGHT GUARD'))\n",
    "df.loc[mask, 'RushDirection'] = 'RIGHT GUARD'\n",
    "\n",
    "mask = (df['RushDirection'].isnull()) & (df['PlayType'] == 'RUSH') & (df['Description'].str.contains('LEFT GUARD'))\n",
    "df.loc[mask, 'RushDirection'] = 'LEFT GUARD'\n",
    "\n",
    "mask = (df['RushDirection'].isnull()) & (df['PlayType'] == 'RUSH') & (df['Description'].str.contains('RIGHT TACKLE'))\n",
    "df.loc[mask, 'RushDirection'] = 'RIGHT TACKLE'\n",
    "\n",
    "mask = (df['RushDirection'].isnull()) & (df['PlayType'] == 'RUSH') & (df['Description'].str.contains('RIGHT END'))\n",
    "df.loc[mask, 'RushDirection'] = 'RIGHT END'\n",
    "\n",
    "mask = (df['RushDirection'].isnull()) & (df['PlayType'] == 'RUSH') & (df['Description'].str.contains('LEFT END'))\n",
    "df.loc[mask, 'RushDirection'] = 'LEFT END'\n",
    "\n",
    "# fill the rest with 0\n",
    "mask = df['RushDirection'].isnull()\n",
    "df[mask] = df[mask].fillna(0)"
   ]
  },
  {
   "cell_type": "code",
   "execution_count": 22,
   "metadata": {
    "collapsed": false
   },
   "outputs": [],
   "source": [
    "# replace null values of 'PenaltyTeam' with 0\n",
    "df['PenaltyTeam'] = df['PenaltyTeam'].fillna(0)"
   ]
  },
  {
   "cell_type": "code",
   "execution_count": 23,
   "metadata": {
    "collapsed": true
   },
   "outputs": [],
   "source": [
    "# replace null values of 'PenaltyType' with 0\n",
    "df['PenaltyType'] = df['PenaltyType'].fillna(0)"
   ]
  },
  {
   "cell_type": "code",
   "execution_count": 24,
   "metadata": {
    "collapsed": false
   },
   "outputs": [],
   "source": [
    "# turn descriptions to unicode to be able to upload to mongodb\n",
    "# df['Description'] = df['Description'].apply(lambda x: unicode(x, 'utf-8', errors=\"ignore\"))"
   ]
  },
  {
   "cell_type": "code",
   "execution_count": 25,
   "metadata": {
    "collapsed": false
   },
   "outputs": [],
   "source": [
    "# To upload data to mongodb, there are limits, will have to divy by team or season and upload to different tables\n",
    "# db_cilent = MongoClient()\n",
    "# db = db_cilent['NFL']\n",
    "# table = db['plays']\n",
    "# odo(df, db.table)"
   ]
  },
  {
   "cell_type": "code",
   "execution_count": 26,
   "metadata": {
    "collapsed": false
   },
   "outputs": [],
   "source": [
    "# Create final cleaned dataframe with only rush and pass to start\n",
    "mask = (df[u'PlayType'] == 'PASS') | (df[u'PlayType'] == 'RUSH')\n",
    "rush_pass_df = df[mask][[u'GameDate', u'Quarter', u'Minute', u'Second',\n",
    "       u'OffenseTeam', u'DefenseTeam', u'Down', u'ToGo', u'YardLine',\n",
    "       u'SeriesFirstDown', u'Description', u'SeasonYear', \n",
    "       u'Formation', u'PlayType']]"
   ]
  },
  {
   "cell_type": "code",
   "execution_count": 27,
   "metadata": {
    "collapsed": false
   },
   "outputs": [],
   "source": [
    "# replace offenseteam/defenseteam where 'SD' with 'LAC'\n",
    "mask = rush_pass_df['OffenseTeam'] == 'SD'\n",
    "rush_pass_df.loc[mask, 'OffenseTeam'] = 'LAC'\n",
    "\n",
    "mask = rush_pass_df['DefenseTeam'] == 'SD'\n",
    "rush_pass_df.loc[mask, 'DefenseTeam'] = 'LAC'"
   ]
  },
  {
   "cell_type": "code",
   "execution_count": 28,
   "metadata": {
    "collapsed": false
   },
   "outputs": [],
   "source": [
    "def join_teams(values):\n",
    "    return \"_\".join(sorted(values))\n",
    "\n",
    "rush_pass_df['Team1_Team2'] = rush_pass_df[[u'OffenseTeam', u'DefenseTeam']].apply(join_teams, axis=1)"
   ]
  },
  {
   "cell_type": "code",
   "execution_count": 29,
   "metadata": {
    "collapsed": true
   },
   "outputs": [],
   "source": [
    "### have to account for dome\n",
    "### future features: coaches, coordinators, score, last play, month, day_of_week, stadium (maybe, already have location)"
   ]
  },
  {
   "cell_type": "code",
   "execution_count": 59,
   "metadata": {
    "collapsed": false
   },
   "outputs": [],
   "source": [
    "weather_df = pd.read_csv('../data/weather.csv')"
   ]
  },
  {
   "cell_type": "code",
   "execution_count": 60,
   "metadata": {
    "collapsed": true
   },
   "outputs": [],
   "source": [
    "weather_df['GameDate'] = weather_df['GameDate'].apply(pd.to_datetime)"
   ]
  },
  {
   "cell_type": "code",
   "execution_count": 61,
   "metadata": {
    "collapsed": true
   },
   "outputs": [],
   "source": [
    "weather_df['Team1_Team2'] = weather_df['Team1_Team2'].astype(str)"
   ]
  },
  {
   "cell_type": "code",
   "execution_count": 62,
   "metadata": {
    "collapsed": false
   },
   "outputs": [],
   "source": [
    "weather_df = weather_df.drop('Stadium', axis=1)"
   ]
  },
  {
   "cell_type": "code",
   "execution_count": 63,
   "metadata": {
    "collapsed": false
   },
   "outputs": [],
   "source": [
    "mask = weather_df['Visibility'].isnull()\n",
    "weather_df.loc[mask, 'Visibility'] = weather_df['Visibility'].mean()"
   ]
  },
  {
   "cell_type": "code",
   "execution_count": 64,
   "metadata": {
    "collapsed": true
   },
   "outputs": [],
   "source": [
    "mask = weather_df['Wind'].isnull()\n",
    "weather_df.loc[mask, 'Wind'] = weather_df['Wind'].mean()"
   ]
  },
  {
   "cell_type": "code",
   "execution_count": 65,
   "metadata": {
    "collapsed": true
   },
   "outputs": [],
   "source": [
    "mask = weather_df['Weather_cat'].isnull()\n",
    "weather_df.loc[mask, 'Weather_cat'] = 'Clear'"
   ]
  },
  {
   "cell_type": "code",
   "execution_count": 66,
   "metadata": {
    "collapsed": false
   },
   "outputs": [],
   "source": [
    "mask = (weather_df['Surface'].isnull()) | (weather_df['Surface'] == 'Bermuda') | \\\n",
    "        (weather_df['Surface'] == 'Bluegrass') | (weather_df['Surface'] == 'Kentucky') | \\\n",
    "            (weather_df['Surface'] == 'Natural')\n",
    "    \n",
    "weather_df.loc[mask, 'Surface'] = 'Grass'"
   ]
  },
  {
   "cell_type": "code",
   "execution_count": 67,
   "metadata": {
    "collapsed": true
   },
   "outputs": [],
   "source": [
    "mask = (weather_df['Surface'] == 'A-Turf') | \\\n",
    "        (weather_df['Surface'] == 'UBU') | (weather_df['Surface'] == 'FieldTurf') | \\\n",
    "            (weather_df['Surface'] == 'RealGrass')\n",
    "    \n",
    "weather_df.loc[mask, 'Surface'] = 'Fieldturf'"
   ]
  },
  {
   "cell_type": "code",
   "execution_count": 68,
   "metadata": {
    "collapsed": true
   },
   "outputs": [],
   "source": [
    "mask = weather_df['Weather_cat'].str.contains('Cloud')\n",
    "weather_df.loc[mask, 'Weather_cat'] = 'Cloudy'\n",
    "\n",
    "mask = weather_df['Weather_cat'].str.contains('Rain') | weather_df['Weather_cat'].str.contains('Drizzle') | \\\n",
    "        weather_df['Weather_cat'].str.contains('Showers') | weather_df['Weather_cat'].str.contains('storm')\n",
    "weather_df.loc[mask, 'Weather_cat'] = 'Rain'\n",
    "\n",
    "mask = weather_df['Weather_cat'].str.contains('Fair') | weather_df['Weather_cat'].str.contains('Clear') | \\\n",
    "        weather_df['Weather_cat'].str.contains('Sunny') | weather_df['Weather_cat'].str.contains('Dry') | \\\n",
    "            weather_df['Weather_cat'].str.contains('Breezy') | weather_df['Weather_cat'].str.contains('Humid')\n",
    "weather_df.loc[mask, 'Weather_cat'] = 'Clear'\n",
    "\n",
    "mask = weather_df['Weather_cat'].str.contains('Fog') | weather_df['Weather_cat'].str.contains('Overcast')\n",
    "weather_df.loc[mask, 'Weather_cat'] = 'Overcast' \n",
    "\n",
    "mask = weather_df['Weather_cat'].str.contains('Snow') | weather_df['Weather_cat'].str.contains('Wintry Mix') | \\\n",
    "        weather_df['Weather_cat'].str.contains('Flurries')\n",
    "weather_df.loc[mask, 'Weather_cat'] = 'Snow'"
   ]
  },
  {
   "cell_type": "code",
   "execution_count": 69,
   "metadata": {
    "collapsed": false
   },
   "outputs": [],
   "source": [
    "combined_df = pd.merge(rush_pass_df, weather_df, how='left', left_on = ['GameDate', 'Team1_Team2'], right_on = ['GameDate', 'Team1_Team2'])"
   ]
  },
  {
   "cell_type": "code",
   "execution_count": 72,
   "metadata": {
    "collapsed": true
   },
   "outputs": [],
   "source": [
    "# combined_df.to_csv('../data/combined_data.csv', index=False)"
   ]
  },
  {
   "cell_type": "code",
   "execution_count": 73,
   "metadata": {
    "collapsed": false
   },
   "outputs": [
    {
     "data": {
      "text/plain": [
       "(225526, 40)"
      ]
     },
     "execution_count": 73,
     "metadata": {},
     "output_type": "execute_result"
    }
   ],
   "source": [
    "df.shape"
   ]
  },
  {
   "cell_type": "code",
   "execution_count": 74,
   "metadata": {
    "collapsed": false
   },
   "outputs": [
    {
     "data": {
      "text/plain": [
       "(155671, 25)"
      ]
     },
     "execution_count": 74,
     "metadata": {},
     "output_type": "execute_result"
    }
   ],
   "source": [
    "combined_df.shape"
   ]
  },
  {
   "cell_type": "code",
   "execution_count": null,
   "metadata": {
    "collapsed": true
   },
   "outputs": [],
   "source": []
  }
 ],
 "metadata": {
  "kernelspec": {
   "display_name": "Python 2",
   "language": "python",
   "name": "python2"
  },
  "language_info": {
   "codemirror_mode": {
    "name": "ipython",
    "version": 2
   },
   "file_extension": ".py",
   "mimetype": "text/x-python",
   "name": "python",
   "nbconvert_exporter": "python",
   "pygments_lexer": "ipython2",
   "version": "2.7.13"
  }
 },
 "nbformat": 4,
 "nbformat_minor": 2
}
