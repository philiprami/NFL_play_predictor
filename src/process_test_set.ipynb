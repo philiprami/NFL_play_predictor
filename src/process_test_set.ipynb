{
 "cells": [
  {
   "cell_type": "code",
   "execution_count": 1,
   "metadata": {
    "collapsed": true
   },
   "outputs": [],
   "source": [
    "import pandas as pd\n",
    "import numpy as np"
   ]
  },
  {
   "cell_type": "markdown",
   "metadata": {},
   "source": [
    "### Process scraped test data, make sure the appropriate features are engineered"
   ]
  },
  {
   "cell_type": "code",
   "execution_count": null,
   "metadata": {
    "collapsed": true
   },
   "outputs": [],
   "source": [
    "# Columns needed:\n",
    "# u'Quarter', u'OffenseTeam', u'DefenseTeam', u'Down', u'ToGo',\n",
    "# u'YardLine', u'Formation', u'IsPass', u'IsTwoPointConversion',\n",
    "# u'Humidity', u'IsPlayoffs', u'Location', u'Surface', u'Temperature',\n",
    "# u'Visibility', u'Weather_cat', u'Wind', u'IsHome', u'Coach',\n",
    "# u'Offensive_coordinator', u'Offensive_scheme', u'Defensive_coordinator',\n",
    "# u'Defensive_alignment', u'Home_total_score', u'Away_total_score',\n",
    "# u'Score_differential', u'Last_play_IsPass', u'Last_two_plays_IsPass',\n",
    "# u'Left_in_game', u'Left_in_half', u'Month'"
   ]
  },
  {
   "cell_type": "code",
   "execution_count": 2,
   "metadata": {
    "collapsed": true
   },
   "outputs": [],
   "source": [
    "df = pd.read_csv('../data/test_set.csv')"
   ]
  },
  {
   "cell_type": "code",
   "execution_count": 9,
   "metadata": {
    "collapsed": false
   },
   "outputs": [
    {
     "data": {
      "text/plain": [
       "Index([u'quarter', u'gameTime', u'down', u'to_go', u'description',\n",
       "       u'away_team', u'week', u'home_score', u'away_score', u'yard_line',\n",
       "       u'home_team', u'gameDate', u'seasonYear'],\n",
       "      dtype='object')"
      ]
     },
     "execution_count": 9,
     "metadata": {},
     "output_type": "execute_result"
    }
   ],
   "source": [
    "df.columns"
   ]
  },
  {
   "cell_type": "code",
   "execution_count": 5,
   "metadata": {
    "collapsed": false
   },
   "outputs": [],
   "source": [
    "# Turn gamedate into datetimes\n",
    "df['gameDate'] = df['gameDate'].apply(pd.to_datetime)"
   ]
  },
  {
   "cell_type": "code",
   "execution_count": 10,
   "metadata": {
    "collapsed": false
   },
   "outputs": [],
   "source": [
    "# Create IsPass col\n",
    "df['IsPass'] = np.where(df['description'].str.contains('pass'), 1, 0)"
   ]
  },
  {
   "cell_type": "code",
   "execution_count": 16,
   "metadata": {
    "collapsed": false
   },
   "outputs": [],
   "source": [
    "# Create dict to format team names\n",
    "teams = ['Carolina Panthers','New York Giants','Houston Texans',\n",
    "         'Tampa Bay Buccaneers','Miami Dolphins','Arizona Cardinals',\n",
    "         'Cincinnati Bengals','Kansas City Chiefs','Jacksonville Jaguars',\n",
    "\t\t 'rai','nwe','was','dal','nyj','rav','clt','gnb','oti',\n",
    " \t\t 'den','min','chi','atl','nor','sea','ram','sdg',\n",
    " \t  \t 'sfo','det','cle','buf','phi','pit']\n",
    "\n",
    "csv_teams = ['CAR','NYG','HOU','TB','MIA','ARI','CIN','KC','JAX',\n",
    " \t\t\t 'OAK','NE','WAS','DAL','NYJ','BAL','IND','GB','TEN',\n",
    " \t\t\t 'DEN','MIN','CHI','ATL','NO','SEA','LA','LAC',\n",
    " \t\t\t 'SF','DET','CLE','BUF','PHI','PIT']\n",
    "\n",
    "team_dict = {x:y for x,y in zip(teams, csv_teams)}\n"
   ]
  },
  {
   "cell_type": "code",
   "execution_count": 18,
   "metadata": {
    "collapsed": false
   },
   "outputs": [
    {
     "data": {
      "text/plain": [
       "['Arizona Cardinals',\n",
       " 'Atlanta Falcons',\n",
       " 'Buffalo Bills',\n",
       " 'Carolina Panthers',\n",
       " 'Chicago Bears',\n",
       " 'Cincinnati Bengals',\n",
       " 'Cleveland Browns',\n",
       " 'Dallas Cowboys',\n",
       " 'Denver Broncos',\n",
       " 'Detroit Lions',\n",
       " 'Green Bay Packers',\n",
       " 'Houston Texans',\n",
       " 'Indianapolis Colts',\n",
       " 'Jacksonville Jaguars',\n",
       " 'Kansas City Chiefs',\n",
       " 'Los Angeles Chargers',\n",
       " 'Los Angeles Rams',\n",
       " 'Miami Dolphins',\n",
       " 'Minnesota Vikings',\n",
       " 'New Orleans Saints',\n",
       " 'New York Giants',\n",
       " 'New York Jets',\n",
       " 'Oakland Raiders',\n",
       " 'Pittsburgh Steelers',\n",
       " 'San Francisco 49ers',\n",
       " 'Seattle Seahawks',\n",
       " 'Tampa Bay Buccaneers',\n",
       " 'Tennessee Titans',\n",
       " 'Washington Redskins']"
      ]
     },
     "execution_count": 18,
     "metadata": {},
     "output_type": "execute_result"
    }
   ],
   "source": [
    "sorted(df['away_team'].unique())"
   ]
  },
  {
   "cell_type": "code",
   "execution_count": 19,
   "metadata": {
    "collapsed": false
   },
   "outputs": [
    {
     "data": {
      "text/html": [
       "<div>\n",
       "<table border=\"1\" class=\"dataframe\">\n",
       "  <thead>\n",
       "    <tr style=\"text-align: right;\">\n",
       "      <th></th>\n",
       "      <th>quarter</th>\n",
       "      <th>gameTime</th>\n",
       "      <th>down</th>\n",
       "      <th>to_go</th>\n",
       "      <th>description</th>\n",
       "      <th>away_team</th>\n",
       "      <th>week</th>\n",
       "      <th>home_score</th>\n",
       "      <th>away_score</th>\n",
       "      <th>yard_line</th>\n",
       "      <th>home_team</th>\n",
       "      <th>gameDate</th>\n",
       "      <th>seasonYear</th>\n",
       "      <th>IsPass</th>\n",
       "    </tr>\n",
       "  </thead>\n",
       "  <tbody>\n",
       "    <tr>\n",
       "      <th>0</th>\n",
       "      <td>1</td>\n",
       "      <td>15:00</td>\n",
       "      <td>NaN</td>\n",
       "      <td>NaN</td>\n",
       "      <td>Justin Tucker kicks off 65 yards, touchback</td>\n",
       "      <td>Indianapolis Colts</td>\n",
       "      <td>16</td>\n",
       "      <td>0</td>\n",
       "      <td>0</td>\n",
       "      <td>RAV 35</td>\n",
       "      <td>Baltimore Ravens</td>\n",
       "      <td>2017-12-23</td>\n",
       "      <td>2017</td>\n",
       "      <td>0</td>\n",
       "    </tr>\n",
       "    <tr>\n",
       "      <th>1</th>\n",
       "      <td>1</td>\n",
       "      <td>15:00</td>\n",
       "      <td>1</td>\n",
       "      <td>10</td>\n",
       "      <td>Jacoby Brissett pass incomplete short right in...</td>\n",
       "      <td>Indianapolis Colts</td>\n",
       "      <td>16</td>\n",
       "      <td>0</td>\n",
       "      <td>0</td>\n",
       "      <td>CLT 25</td>\n",
       "      <td>Baltimore Ravens</td>\n",
       "      <td>2017-12-23</td>\n",
       "      <td>2017</td>\n",
       "      <td>1</td>\n",
       "    </tr>\n",
       "    <tr>\n",
       "      <th>2</th>\n",
       "      <td>1</td>\n",
       "      <td>14:55</td>\n",
       "      <td>2</td>\n",
       "      <td>10</td>\n",
       "      <td>Frank Gore left guard for 3 yards (tackle by Z...</td>\n",
       "      <td>Indianapolis Colts</td>\n",
       "      <td>16</td>\n",
       "      <td>0</td>\n",
       "      <td>0</td>\n",
       "      <td>CLT 25</td>\n",
       "      <td>Baltimore Ravens</td>\n",
       "      <td>2017-12-23</td>\n",
       "      <td>2017</td>\n",
       "      <td>0</td>\n",
       "    </tr>\n",
       "    <tr>\n",
       "      <th>3</th>\n",
       "      <td>1</td>\n",
       "      <td>14:16</td>\n",
       "      <td>3</td>\n",
       "      <td>7</td>\n",
       "      <td>Jacoby Brissett pass incomplete short right in...</td>\n",
       "      <td>Indianapolis Colts</td>\n",
       "      <td>16</td>\n",
       "      <td>0</td>\n",
       "      <td>0</td>\n",
       "      <td>CLT 28</td>\n",
       "      <td>Baltimore Ravens</td>\n",
       "      <td>2017-12-23</td>\n",
       "      <td>2017</td>\n",
       "      <td>1</td>\n",
       "    </tr>\n",
       "    <tr>\n",
       "      <th>4</th>\n",
       "      <td>1</td>\n",
       "      <td>14:12</td>\n",
       "      <td>4</td>\n",
       "      <td>7</td>\n",
       "      <td>Rigoberto Sanchez punts 36 yards, out of bounds</td>\n",
       "      <td>Indianapolis Colts</td>\n",
       "      <td>16</td>\n",
       "      <td>0</td>\n",
       "      <td>0</td>\n",
       "      <td>CLT 28</td>\n",
       "      <td>Baltimore Ravens</td>\n",
       "      <td>2017-12-23</td>\n",
       "      <td>2017</td>\n",
       "      <td>0</td>\n",
       "    </tr>\n",
       "  </tbody>\n",
       "</table>\n",
       "</div>"
      ],
      "text/plain": [
       "  quarter gameTime down to_go  \\\n",
       "0       1    15:00  NaN   NaN   \n",
       "1       1    15:00    1    10   \n",
       "2       1    14:55    2    10   \n",
       "3       1    14:16    3     7   \n",
       "4       1    14:12    4     7   \n",
       "\n",
       "                                         description           away_team  \\\n",
       "0        Justin Tucker kicks off 65 yards, touchback  Indianapolis Colts   \n",
       "1  Jacoby Brissett pass incomplete short right in...  Indianapolis Colts   \n",
       "2  Frank Gore left guard for 3 yards (tackle by Z...  Indianapolis Colts   \n",
       "3  Jacoby Brissett pass incomplete short right in...  Indianapolis Colts   \n",
       "4    Rigoberto Sanchez punts 36 yards, out of bounds  Indianapolis Colts   \n",
       "\n",
       "   week home_score away_score yard_line         home_team   gameDate  \\\n",
       "0    16          0          0    RAV 35  Baltimore Ravens 2017-12-23   \n",
       "1    16          0          0    CLT 25  Baltimore Ravens 2017-12-23   \n",
       "2    16          0          0    CLT 25  Baltimore Ravens 2017-12-23   \n",
       "3    16          0          0    CLT 28  Baltimore Ravens 2017-12-23   \n",
       "4    16          0          0    CLT 28  Baltimore Ravens 2017-12-23   \n",
       "\n",
       "   seasonYear  IsPass  \n",
       "0        2017       0  \n",
       "1        2017       1  \n",
       "2        2017       0  \n",
       "3        2017       1  \n",
       "4        2017       0  "
      ]
     },
     "execution_count": 19,
     "metadata": {},
     "output_type": "execute_result"
    }
   ],
   "source": [
    "df.head()"
   ]
  },
  {
   "cell_type": "code",
   "execution_count": null,
   "metadata": {
    "collapsed": true
   },
   "outputs": [],
   "source": []
  }
 ],
 "metadata": {
  "kernelspec": {
   "display_name": "Python 2",
   "language": "python",
   "name": "python2"
  },
  "language_info": {
   "codemirror_mode": {
    "name": "ipython",
    "version": 2
   },
   "file_extension": ".py",
   "mimetype": "text/x-python",
   "name": "python",
   "nbconvert_exporter": "python",
   "pygments_lexer": "ipython2",
   "version": "2.7.13"
  }
 },
 "nbformat": 4,
 "nbformat_minor": 2
}
